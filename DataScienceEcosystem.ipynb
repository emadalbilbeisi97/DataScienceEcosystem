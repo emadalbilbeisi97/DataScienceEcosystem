{
 "cells": [
  {
   "cell_type": "markdown",
   "id": "797b575a-cc55-4fe0-82ba-9c2a613e57de",
   "metadata": {},
   "source": [
    "# Data Science Tools and Ecosystem\n"
   ]
  },
  {
   "cell_type": "markdown",
   "id": "40623f9b-08b5-40c8-9390-1e8c2115293f",
   "metadata": {},
   "source": [
    "*In this notebook, Data Science Tools and Ecosystem are summarized.*"
   ]
  },
  {
   "cell_type": "markdown",
   "id": "e397fe5b-cb14-41f8-b8af-305c76fa8064",
   "metadata": {},
   "source": [
    "Some of the popular languages that Data Scientists use are:\n",
    "* Python\n",
    "* R\n",
    "* Java"
   ]
  },
  {
   "cell_type": "markdown",
   "id": "790d394e-d35a-442a-a52d-077375a99eaf",
   "metadata": {},
   "source": [
    "Some of the commonly used libraries used by Data Scientists include:\n",
    "* pandas\n",
    "* Numpy\n",
    "* Matlpotlib\n"
   ]
  },
  {
   "cell_type": "markdown",
   "id": "90ff529c-fa12-4d94-898c-69297b84a175",
   "metadata": {},
   "source": [
    "| Data Science Tools |\n",
    "| ------------------ |\n",
    "| Jupyter |\n",
    "| Anaconda navigator|\n",
    "| Spyder |"
   ]
  },
  {
   "cell_type": "markdown",
   "id": "ae83caa3-161c-4a44-b901-95f23d54819a",
   "metadata": {},
   "source": [
    "### Below are a few examples of evaluating arithmetic expressions in Python"
   ]
  },
  {
   "cell_type": "code",
   "execution_count": 20,
   "id": "fe44cd28-f574-40fe-9f72-622eac7d3ddd",
   "metadata": {},
   "outputs": [
    {
     "data": {
      "text/plain": [
       "17"
      ]
     },
     "execution_count": 20,
     "metadata": {},
     "output_type": "execute_result"
    }
   ],
   "source": [
    "(3*4)+5\n",
    "# This a simple arithmetic expression to mutiply then add integers"
   ]
  },
  {
   "cell_type": "code",
   "execution_count": 21,
   "id": "b8c6a6ca-dbc5-4894-a287-559fff9c6c6f",
   "metadata": {},
   "outputs": [
    {
     "data": {
      "text/plain": [
       "3.3333333333333335"
      ]
     },
     "execution_count": 21,
     "metadata": {},
     "output_type": "execute_result"
    }
   ],
   "source": [
    "200/60\n",
    "#This will convert 200 minutes to hours by diving by 60"
   ]
  },
  {
   "cell_type": "markdown",
   "id": "bdf85d41-d1c4-4c8e-bf3e-8192b44a0b72",
   "metadata": {},
   "source": [
    "**Objectives:**\n",
    "\n",
    "- List popular languages for Data Science  \n",
    "- Describe common libraries used in Data Science  \n",
    "- Explain what Data Science is and its applications  \n",
    "- Demonstrate simple arithmetic expressions using Python  \n",
    "- Convert values between different units (e.g., minutes to hours)  \n"
   ]
  },
  {
   "cell_type": "markdown",
   "id": "e3c3add0-b3be-4775-8110-6c8c5326479f",
   "metadata": {},
   "source": [
    "## Author \n",
    "Emadaldin M. Albilbeisi"
   ]
  },
  {
   "cell_type": "code",
   "execution_count": null,
   "id": "16ded40d-e9a6-40b7-897a-5a9a19fb6716",
   "metadata": {},
   "outputs": [],
   "source": []
  }
 ],
 "metadata": {
  "kernelspec": {
   "display_name": "Python 3 (ipykernel)",
   "language": "python",
   "name": "python3"
  },
  "language_info": {
   "codemirror_mode": {
    "name": "ipython",
    "version": 3
   },
   "file_extension": ".py",
   "mimetype": "text/x-python",
   "name": "python",
   "nbconvert_exporter": "python",
   "pygments_lexer": "ipython3",
   "version": "3.12.8"
  }
 },
 "nbformat": 4,
 "nbformat_minor": 5
}
